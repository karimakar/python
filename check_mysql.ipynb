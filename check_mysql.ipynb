{
 "cells": [
  {
   "attachments": {},
   "cell_type": "markdown",
   "metadata": {},
   "source": [
    "# check if database exists"
   ]
  },
  {
   "attachments": {},
   "cell_type": "markdown",
   "metadata": {},
   "source": [
    "import mysql.connector"
   ]
  },
  {
   "cell_type": "code",
   "execution_count": 1,
   "metadata": {},
   "outputs": [],
   "source": [
    "import mysql.connector"
   ]
  },
  {
   "cell_type": "code",
   "execution_count": 3,
   "metadata": {},
   "outputs": [
    {
     "name": "stdout",
     "output_type": "stream",
     "text": [
      "('awesome chocolates',)\n",
      "('choco',)\n",
      "('company',)\n",
      "('ecole',)\n",
      "('information_schema',)\n",
      "('inventory',)\n",
      "('mydb',)\n",
      "('mysql',)\n",
      "('performance_schema',)\n",
      "('portfolioproject',)\n",
      "('python',)\n",
      "('sakila',)\n",
      "('sales',)\n",
      "('sql_intro',)\n",
      "('sql_joins',)\n",
      "('stm',)\n",
      "('student',)\n",
      "('studentmanagementsystem1',)\n",
      "('subquerys',)\n",
      "('sys',)\n",
      "('testbd',)\n",
      "('triggers',)\n",
      "('world',)\n"
     ]
    }
   ],
   "source": [
    "mydb = mysql.connector.connect(\n",
    "host='localhost',\n",
    "user='karim',\n",
    "password='0623963226'\n",
    "\n",
    ")\n",
    "\n",
    "cursor = mydb.cursor()\n",
    "cursor.execute('SHOW DATABASES')\n",
    "\n",
    "for i in cursor:\n",
    "    print(i)\n"
   ]
  },
  {
   "cell_type": "code",
   "execution_count": 5,
   "metadata": {},
   "outputs": [],
   "source": [
    "# chosse our database\n",
    "mydata = mysql.connector.connect(\n",
    "host = 'localhost',\n",
    "user='karim',\n",
    "password='0623963226',\n",
    "database='PYTHON')"
   ]
  },
  {
   "cell_type": "code",
   "execution_count": 8,
   "metadata": {},
   "outputs": [],
   "source": [
    "# create table in python database\n",
    "cursor = mydata.cursor()\n",
    "cursor.execute('CREATE TABLE users(last_name VARCHAR(45), first_name VARCHAR(45), AGE INT )')"
   ]
  },
  {
   "cell_type": "code",
   "execution_count": 12,
   "metadata": {},
   "outputs": [
    {
     "name": "stdout",
     "output_type": "stream",
     "text": [
      "('emplyee',)\n",
      "('users',)\n"
     ]
    }
   ],
   "source": [
    "cursor.execute('SHOW TABLES')\n",
    "\n",
    "for i in cursor:\n",
    "    print(i)"
   ]
  },
  {
   "cell_type": "code",
   "execution_count": 15,
   "metadata": {},
   "outputs": [],
   "source": [
    "sql = 'INSERT INTO users(last_name,first_name,age) VALUES(%s,%s,%s)'\n",
    "val = ('akarkab','karim',30)\n",
    "cursor.execute(sql,val)"
   ]
  },
  {
   "cell_type": "code",
   "execution_count": 16,
   "metadata": {},
   "outputs": [],
   "source": [
    "mydb.commit()"
   ]
  },
  {
   "cell_type": "code",
   "execution_count": 17,
   "metadata": {},
   "outputs": [
    {
     "name": "stdout",
     "output_type": "stream",
     "text": [
      "1 record inserted\n"
     ]
    }
   ],
   "source": [
    "print(cursor.rowcount,'record inserted')"
   ]
  },
  {
   "cell_type": "code",
   "execution_count": 11,
   "metadata": {},
   "outputs": [],
   "source": [
    "# CREATE OTHER TABLE WITH PRIMARY KEYS\n",
    "cursor = mydata.cursor()\n",
    "cursor.execute('CREATE TABLE emplyee( id INT AUTO_INCREMENT PRIMARY KEY , last_name VARCHAR(45), first_name VARCHAR(45), AGE INT )')"
   ]
  }
 ],
 "metadata": {
  "kernelspec": {
   "display_name": "base",
   "language": "python",
   "name": "python3"
  },
  "language_info": {
   "codemirror_mode": {
    "name": "ipython",
    "version": 3
   },
   "file_extension": ".py",
   "mimetype": "text/x-python",
   "name": "python",
   "nbconvert_exporter": "python",
   "pygments_lexer": "ipython3",
   "version": "3.7.6"
  },
  "orig_nbformat": 4
 },
 "nbformat": 4,
 "nbformat_minor": 2
}
